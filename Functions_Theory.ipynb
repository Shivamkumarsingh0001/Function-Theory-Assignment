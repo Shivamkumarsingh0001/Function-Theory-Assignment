{
  "nbformat": 4,
  "nbformat_minor": 0,
  "metadata": {
    "colab": {
      "provenance": []
    },
    "kernelspec": {
      "name": "python3",
      "display_name": "Python 3"
    },
    "language_info": {
      "name": "python"
    }
  },
  "cells": [
    {
      "cell_type": "markdown",
      "source": [
        "# **Question 1-->  What is the difference between a function and a method in Python?**"
      ],
      "metadata": {
        "id": "Ya_vKL0Fpx7t"
      }
    },
    {
      "cell_type": "markdown",
      "source": [
        "**Ans -->** In Python, functions and methods are both blocks of code that perform a specific task, but they differ in their context and usage:\n",
        "\n",
        "\n",
        "Functions:\n",
        "\n",
        "\n",
        "- Standalone blocks of code\n",
        "- Not part of a class or object\n",
        "- Called directly by their name\n",
        "- Do not have access to a specific object's attributes\n",
        "\n",
        "\n",
        "Methods:\n",
        "\n",
        "\n",
        "- Blocks of code associated with a class or object\n",
        "- Called on an instance of a class\n",
        "- Have access to the object's attributes (data)\n",
        "\n",
        "\n",
        "To illustrate the difference, consider this example:\n",
        "\n",
        "\n",
        "\n",
        "# Function\n",
        "def greet(name):\n",
        "    print(f\"Hello, {name}!\")\n",
        "\n",
        "# Class with a method\n",
        "class Person:\n",
        "    def __init__(self, name):\n",
        "        self.name = name\n",
        "\n",
        "    def greet(self):\n",
        "        print(f\"Hello, my name is {self.name}!\")\n",
        "\n",
        "# Calling the function\n",
        "greet(\"Shivam\")\n",
        "\n",
        "# Creating a Person object and calling its method\n",
        "shivam = Person(\"Shivam\")\n",
        "shivam.greet()\n",
        "``'\n",
        "\n",
        "\n",
        "In summary:\n",
        "\n",
        "\n",
        "*   Use functions for independent tasks\n",
        "*   Use methods for tasks related to a specific class or object"
      ],
      "metadata": {
        "id": "38Z9omRqp8hW"
      }
    },
    {
      "cell_type": "code",
      "source": [
        "def add(a, b):\n",
        "    return a + b\n",
        "\n",
        "result = add(3, 5)\n",
        "print(result)"
      ],
      "metadata": {
        "colab": {
          "base_uri": "https://localhost:8080/"
        },
        "id": "m6QGtqGirsSy",
        "outputId": "c727459b-8324-4d7f-faa8-b9208a88d316"
      },
      "execution_count": null,
      "outputs": [
        {
          "output_type": "stream",
          "name": "stdout",
          "text": [
            "8\n"
          ]
        }
      ]
    },
    {
      "cell_type": "code",
      "source": [
        "class Person:\n",
        "    def __init__(self, name):\n",
        "        self.name = name\n",
        "\n",
        "    def __str__(self):\n",
        "        return f\"Person: {self.name}\"\n",
        "\n",
        "Shivam = Person(\"Shivam\")\n",
        "print(Shivam)"
      ],
      "metadata": {
        "colab": {
          "base_uri": "https://localhost:8080/"
        },
        "id": "d9_UKtYasVr0",
        "outputId": "54b819cc-ebd5-4979-ad78-55d3c016a1aa"
      },
      "execution_count": null,
      "outputs": [
        {
          "output_type": "stream",
          "name": "stdout",
          "text": [
            "Person: Shivam\n"
          ]
        }
      ]
    },
    {
      "cell_type": "markdown",
      "source": [
        "# **Question 2 --> Explain the concept of function arguments and parameters in Python.**"
      ],
      "metadata": {
        "id": "llWFXrSrtObD"
      }
    },
    {
      "cell_type": "markdown",
      "source": [
        "**Ans -->** In Python, function arguments and parameters are essential concepts that allow functions to accept and process input data.\n",
        "\n",
        "\n",
        "Parameters:\n",
        "\n",
        "- Defined in the function definition using the def keyword\n",
        "- Listed in parentheses after the function name\n",
        "- Receive the input values passed when the function is called\n",
        "- Can have default values or be made optional\n",
        "\n",
        "\n",
        "Arguments:\n",
        "\n",
        "- Values passed to the function when it's called\n",
        "- Assigned to the corresponding parameters\n",
        "- Can be positional (based on order) or keyword-based (by parameter name)\n",
        "\n",
        "\n",
        "Example:\n",
        "\n",
        "\n",
        "\n",
        "def greet(name, message=\"Hello\"):\n",
        "    print(f\"{message}, {name}!\")\n",
        "\n",
        "# Positional argument\n",
        "greet(\"Shivam\")\n",
        "\n",
        "# Keyword argument\n",
        "greet(name=\"Shivangani\", message=\"Hi\")\n",
        "\n",
        "# Output:\n",
        "# Hello, Shivam!\n",
        "# Hi, Shivangani!\n",
        "\n",
        "\n",
        "\n",
        "Types of Parameters:\n",
        "\n",
        "\n",
        "1. Positional Parameters: Assigned values based on their position in the parameter list.\n",
        "\n",
        "\n",
        "``````\n",
        "def describe_pet(pet_name, pet_type):\n",
        "    print(f\"I have a {pet_type} named {pet_name}.\")\n",
        "\n",
        "describe_pet(\"Fido\", \"dog\")\n",
        "```\n",
        "```\n",
        "1. Keyword Parameters: Assigned values based on their keyword.\n",
        "\n",
        "\n",
        "``````\n",
        "def describe_pet(pet_name, pet_type):\n",
        "    print(f\"I have a {pet_type} named {pet_name}.\")\n",
        "\n",
        "describe_pet(pet_name=\"Fido\", pet_type=\"dog\")\n",
        "```\n",
        "```\n",
        "1. Default Parameters: Have default values if no argument is provided.\n",
        "\n",
        "\n",
        "``````\n",
        "def greet(name, message=\"Hello\"):\n",
        "    print(f\"{message}, {name}!\")\n",
        "\n",
        "greet(\"Shivam\")  # Output: Hello, Shivam!\n",
        "```\n",
        "```\n",
        "1. Variable-Length Parameters: Accept any number of arguments.\n",
        "\n",
        "\n",
        "``````\n",
        "def sum_numbers(*numbers):\n",
        "    return sum(numbers)\n",
        "\n",
        "print(sum_numbers(1, 2, 3, 4, 5))  # Output: 15\n",
        "```\n",
        "```\n",
        "1. Keyword-Only Parameters: Must be passed using keyword arguments.\n",
        "\n",
        "\n",
        "``````\n",
        "def greet(*, name, message=\"Hello\"):\n",
        "    print(f\"{message}, {name}!\")\n",
        "\n",
        "greet(name=\"Shivam\")  # Output: Hello, Shivam!\n",
        "```\n",
        "```"
      ],
      "metadata": {
        "id": "Tg737iXTthlI"
      }
    },
    {
      "cell_type": "code",
      "source": [
        "def describe_pet(pet_name, pet_type):\n",
        "    print(f\"I have a {pet_type} named {pet_name}.\")\n",
        "\n",
        "describe_pet(\"Fido\", \"dog\")\n"
      ],
      "metadata": {
        "colab": {
          "base_uri": "https://localhost:8080/"
        },
        "id": "ewgLp_m9vV3c",
        "outputId": "67f85284-f689-45f7-ba40-36fe814a8878"
      },
      "execution_count": null,
      "outputs": [
        {
          "output_type": "stream",
          "name": "stdout",
          "text": [
            "I have a dog named Fido.\n"
          ]
        }
      ]
    },
    {
      "cell_type": "code",
      "source": [
        "def describe_pet(pet_name, pet_type):\n",
        "    print(f\"I have a {pet_type} named {pet_name}.\")\n",
        "\n",
        "describe_pet(pet_name=\"Fido\", pet_type=\"dog\")\n",
        "\n",
        "\n"
      ],
      "metadata": {
        "colab": {
          "base_uri": "https://localhost:8080/"
        },
        "id": "vQuyX9-HwKYW",
        "outputId": "160318c7-eb80-4083-ff8f-e25d1fed85b5"
      },
      "execution_count": null,
      "outputs": [
        {
          "output_type": "stream",
          "name": "stdout",
          "text": [
            "I have a dog named Fido.\n"
          ]
        }
      ]
    },
    {
      "cell_type": "code",
      "source": [
        "def describe_pet(pet_name, pet_type, age):\n",
        "    print(f\"I have a {age} year old {pet_type} named {pet_name}.\")\n",
        "\n",
        "describe_pet(\"Fido\", \"dog\", age=3)\n"
      ],
      "metadata": {
        "colab": {
          "base_uri": "https://localhost:8080/"
        },
        "id": "n7V8fc6BwT7S",
        "outputId": "fb23af40-21ee-4a91-8b42-a810ed2f963a"
      },
      "execution_count": null,
      "outputs": [
        {
          "output_type": "stream",
          "name": "stdout",
          "text": [
            "I have a 3 year old dog named Fido.\n"
          ]
        }
      ]
    },
    {
      "cell_type": "code",
      "source": [
        "def greet(name):\n",
        "    print(f\"Hello, {name}!\")\n",
        "\n",
        "greet(\"Shivam\")\n"
      ],
      "metadata": {
        "colab": {
          "base_uri": "https://localhost:8080/"
        },
        "id": "P3Ps55yKwcOU",
        "outputId": "d8e29eb8-2412-4c49-a52a-c44d09f0ba87"
      },
      "execution_count": null,
      "outputs": [
        {
          "output_type": "stream",
          "name": "stdout",
          "text": [
            "Hello, Shivam!\n"
          ]
        }
      ]
    },
    {
      "cell_type": "code",
      "source": [
        "def greet(name, message=\"Hello\"):\n",
        "    print(f\"{message}, {name}!\")\n",
        "\n",
        "greet(\"Shivangani\")"
      ],
      "metadata": {
        "colab": {
          "base_uri": "https://localhost:8080/"
        },
        "id": "QNRs_dfdw23t",
        "outputId": "a52f6e73-96fa-432a-b608-2abef46b6944"
      },
      "execution_count": null,
      "outputs": [
        {
          "output_type": "stream",
          "name": "stdout",
          "text": [
            "Hello, Shivangani!\n"
          ]
        }
      ]
    },
    {
      "cell_type": "code",
      "source": [
        "def sum_numbers(*numbers):\n",
        "    return sum(numbers)\n",
        "\n",
        "print(sum_numbers(1, 2, 3, 4, 5))"
      ],
      "metadata": {
        "colab": {
          "base_uri": "https://localhost:8080/"
        },
        "id": "ZFxvSMQmxFSd",
        "outputId": "20f4981c-9dd4-4fef-cb03-2c54ec422fef"
      },
      "execution_count": null,
      "outputs": [
        {
          "output_type": "stream",
          "name": "stdout",
          "text": [
            "15\n"
          ]
        }
      ]
    },
    {
      "cell_type": "code",
      "source": [
        "def print_kwargs(**kwargs):\n",
        "    for key, value in kwargs.items():\n",
        "        print(f\"{key}: {value}\")\n",
        "\n",
        "print_kwargs(name=\"Shivam\", age=26, city=\"New Delhi\")\n"
      ],
      "metadata": {
        "colab": {
          "base_uri": "https://localhost:8080/"
        },
        "id": "t4t8I-8rxQM8",
        "outputId": "8cd3d1c2-ed3e-4cf5-99ce-38b137ca13bc"
      },
      "execution_count": null,
      "outputs": [
        {
          "output_type": "stream",
          "name": "stdout",
          "text": [
            "name: Shivam\n",
            "age: 26\n",
            "city: New Delhi\n"
          ]
        }
      ]
    },
    {
      "cell_type": "markdown",
      "source": [
        "\n",
        "Special Parameters:\n",
        "\n",
        "\n",
        "- *args: Variable-length positional parameters.\n",
        "\n",
        "\n",
        "- kwargs: Variable-length keyword parameters.\n",
        "\n",
        "\n",
        "- “/” : Separator for positional-only parameters.\n",
        "\n",
        "\n",
        "- “*” : Separator for keyword-only parameters."
      ],
      "metadata": {
        "id": "utqnIlRUx0wp"
      }
    },
    {
      "cell_type": "markdown",
      "source": [
        "# **Question 3 --> What are the different ways to define and call a function in Python?**"
      ],
      "metadata": {
        "id": "HR8YTxkvx7KG"
      }
    },
    {
      "cell_type": "markdown",
      "source": [
        "**Ans -->** In Python, functions can be defined and called in various ways:\n",
        "\n",
        "\n",
        "Defining Functions:\n",
        "\n",
        "\n",
        "1. Standard Function Definition\n",
        "\n",
        "\n",
        "def function_name(parameters):\n",
        "    # code\n",
        "\n",
        "\n",
        "Example:\n",
        "\n",
        "def greet(name):\n",
        "    print(f\"Hello, {name}!\")\n",
        "\n",
        "\n",
        "\n",
        "1. Lambda Functions (Anonymous Functions)\n",
        "\n",
        "\n",
        "lambda parameters: expression\n",
        "\n",
        "\n",
        "Example:\n",
        "\n",
        "sum = lambda x, y: x + y\n",
        "\n",
        "\n",
        "\n",
        "1. Nested Functions\n",
        "\n",
        "\n",
        "def outer_function():\n",
        "    def inner_function():\n",
        "        # code\n",
        "    # code\n",
        "\n",
        "\n",
        "Example:\n",
        "\n",
        "def outer():\n",
        "    def inner():\n",
        "        print(\"Inner function\")\n",
        "    inner()\n",
        "\n",
        "\n",
        "\n",
        "Calling Functions:\n",
        "\n",
        "\n",
        "1. Positional Arguments\n",
        "\n",
        "\n",
        "function_name(arg1, arg2, ...)\n",
        "\n",
        "\n",
        "Example:\n",
        "\n",
        "greet(\"Shivam\")\n",
        "\n",
        "\n",
        "\n",
        "1. Keyword Arguments\n",
        "\n",
        "\n",
        "function_name(arg_name=value, ...)\n",
        "\n",
        "\n",
        "Example:\n",
        "\n",
        "greet(name=\"Shivangani\")\n",
        "\n",
        "\n",
        "\n",
        "1. Mixed Arguments\n",
        "\n",
        "\n",
        "function_name(arg1, arg_name=value, ...)\n",
        "\n",
        "\n",
        "Example:\n",
        "\n",
        "def greet(greeting, name): print(f\"{greeting}, {name}!\")\n",
        "greet(\"Hi\", name=\"Shivam\")\n",
        "\n",
        "\n",
        "\n",
        "1. Default Argument Values\n",
        "\n",
        "\n",
        "def function_name(arg=value, ...):\n",
        "    # code\n",
        "\n",
        "\n",
        "Example:\n",
        "\n",
        "def greet(name, message=\"Hello\"):\n",
        "    print(f\"{message}, {name}!\")\n",
        "greet(\"Shivam\")\n",
        "\n",
        "\n",
        "\n",
        "1. Variable-Length Arguments (*args, **kwargs)\n",
        "\n",
        "\n",
        "def function_name(*args, **kwargs):\n",
        "    # code\n",
        "\n",
        "\n",
        "Example:\n",
        "\n",
        "def sum_numbers(*numbers): return sum(numbers)\n",
        "sum_numbers(1, 2, 3, 4, 5)\n",
        "\n",
        "\n",
        "\n",
        "1. Function Call with Unpacking\n",
        "\n",
        "\n",
        "function_name(*list/tuple, **dict)\n",
        "\n",
        "\n",
        "Example:\n",
        "\n",
        "def greet(name, message): print(f\"{message}, {name}!\")\n",
        "args = [\"Shivam\", \"Hi\"]\n",
        "kwargs = {}\n",
        "greet(*args, **kwargs)\n",
        "\n",
        "\n",
        "\n",
        "Special Function Definitions:\n",
        "\n",
        "\n",
        "1. Generator Functions (yield)\n",
        "\n",
        "\n",
        "def function_name():\n",
        "    yield value\n",
        "\n",
        "\n",
        "Example:\n",
        "\n",
        "def infinite_sequence():\n",
        "    num = 0\n",
        "    while True:\n",
        "        yield num\n",
        "        num += 1\n",
        "\n",
        "\n",
        "\n",
        "1. Decorator Functions (@decorator)\n",
        "\n",
        "\n",
        "@decorator\n",
        "def function_name():\n",
        "    # code\n",
        "\n",
        "\n",
        "Example:\n",
        "\n",
        "def my_decorator(func):\n",
        "    def wrapper():\n",
        "        print(\"Before function\")\n",
        "        func()\n",
        "        print(\"After function\")\n",
        "    return wrapper\n",
        "\n",
        "@my_decorator\n",
        "def say_hello():\n",
        "    print(\"Hello!\")\n",
        "\n",
        "\n",
        "\n",
        "1. Async Functions (async def)\n",
        "\n",
        "\n",
        "async def function_name():\n",
        "    # code\n",
        "\n",
        "\n",
        "Example:\n",
        "\n",
        "import asyncio\n",
        "async def greet(name):\n",
        "    print(f\"Hello, {name}!\")\n",
        "asyncio.run(greet(\"Shivam\"))\n"
      ],
      "metadata": {
        "id": "mAVd8sIXyHuo"
      }
    },
    {
      "cell_type": "markdown",
      "source": [
        "# **Question 4 --> What is the purpose of the return statement in a Python function?**"
      ],
      "metadata": {
        "id": "1rjPlVHjz9Lv"
      }
    },
    {
      "cell_type": "markdown",
      "source": [
        "Ans --> The return statement in a Python function serves several purposes:\n",
        "\n",
        "\n",
        "1. Exiting the function: return immediately stops the function's execution and returns control to the caller.\n",
        "\n",
        "\n",
        "1. Returning values: return can pass values back to the caller, allowing functions to communicate results.\n",
        "\n",
        "\n",
        "1. Optional return types: Functions can return multiple types, such as integers, strings, lists, or dictionaries.\n",
        "\n",
        "\n",
        "1. Early termination: return can be used to exit a function prematurely, skipping remaining code.\n",
        "\n",
        "\n",
        "Example:\n",
        "\n",
        "\n",
        "\n",
        "def greet(name):\n",
        "    print(f\"Hello, {name}!\")\n",
        "    return \"Greeting completed\"\n",
        "\n",
        "result = greet(\"John\")\n",
        "print(result)  # Output: Greeting completed\n",
        "\n",
        "\n",
        "Some key points:\n",
        "\n",
        "\n",
        "- Functions without return implicitly return None.\n",
        "\n",
        "\n",
        "- Multiple return statements can be used for different execution paths.\n",
        "\n",
        "\n",
        "- return can be used with or without values."
      ],
      "metadata": {
        "id": "7MAjgV350Jks"
      }
    },
    {
      "cell_type": "markdown",
      "source": [
        "Return Statement Examples\n",
        "\n",
        "\n",
        "1. Simple Return:"
      ],
      "metadata": {
        "id": "Y9Y6jGsW2Mfm"
      }
    },
    {
      "cell_type": "code",
      "source": [
        "def greet(name):\n",
        "    print(f\"Hello, {name}!\")\n",
        "    return\n",
        "\n",
        "greet(\"Shivam\")\n"
      ],
      "metadata": {
        "colab": {
          "base_uri": "https://localhost:8080/"
        },
        "id": "WXylxHCx2TJQ",
        "outputId": "9d9eda14-6bfd-4d89-b515-549511f9563e"
      },
      "execution_count": null,
      "outputs": [
        {
          "output_type": "stream",
          "name": "stdout",
          "text": [
            "Hello, Shivam!\n"
          ]
        }
      ]
    },
    {
      "cell_type": "markdown",
      "source": [
        "2. Returning Values:\n",
        "\n"
      ],
      "metadata": {
        "id": "3037wBsA2f7x"
      }
    },
    {
      "cell_type": "code",
      "source": [
        "def add(a, b):\n",
        "    return a + b\n",
        "\n",
        "result = add(3, 5)\n",
        "print(result)"
      ],
      "metadata": {
        "colab": {
          "base_uri": "https://localhost:8080/"
        },
        "id": "ZXXk6Y0XyGJH",
        "outputId": "f9301a58-3e56-40fe-d90f-2b5011f30db2"
      },
      "execution_count": null,
      "outputs": [
        {
          "output_type": "stream",
          "name": "stdout",
          "text": [
            "8\n"
          ]
        }
      ]
    },
    {
      "cell_type": "markdown",
      "source": [
        "3. Multiple Return Statements:\n"
      ],
      "metadata": {
        "id": "K-EzwfS926c8"
      }
    },
    {
      "cell_type": "code",
      "source": [
        "\n",
        "def check_age(age):\n",
        "    if age < 18:\n",
        "        return \"You're a minor.\"\n",
        "    else:\n",
        "        return \"You're an adult.\"\n",
        "\n",
        "print(check_age(26))"
      ],
      "metadata": {
        "colab": {
          "base_uri": "https://localhost:8080/"
        },
        "id": "1e9aSS7R3DDO",
        "outputId": "c74e980d-ad3e-4e48-953e-e865b3e2b01b"
      },
      "execution_count": null,
      "outputs": [
        {
          "output_type": "stream",
          "name": "stdout",
          "text": [
            "You're an adult.\n"
          ]
        }
      ]
    },
    {
      "cell_type": "markdown",
      "source": [
        "4. Returning Multiple Values:\n"
      ],
      "metadata": {
        "id": "gaLQxkBm3Cbr"
      }
    },
    {
      "cell_type": "code",
      "source": [
        "def calculate_stats(numbers):\n",
        "    mean = sum(numbers) / len(numbers)\n",
        "    median = sorted(numbers)[len(numbers) // 2]\n",
        "    return mean, median\n",
        "\n",
        "numbers = [1, 3, 5, 7, 9]\n",
        "mean, median = calculate_stats(numbers)\n",
        "print(f\"Mean: {mean}, Median: {median}\")\n"
      ],
      "metadata": {
        "colab": {
          "base_uri": "https://localhost:8080/"
        },
        "id": "dJ9EvFkJ3V-2",
        "outputId": "55bc1388-ad9c-47a3-c2e3-ba815dbee7e3"
      },
      "execution_count": null,
      "outputs": [
        {
          "output_type": "stream",
          "name": "stdout",
          "text": [
            "Mean: 5.0, Median: 5\n"
          ]
        }
      ]
    },
    {
      "cell_type": "markdown",
      "source": [
        "5. Returning None:"
      ],
      "metadata": {
        "id": "f_QpVoKn3odS"
      }
    },
    {
      "cell_type": "code",
      "source": [
        "def print_hello():\n",
        "    print(\"Hello!\")\n",
        "\n",
        "result = print_hello()\n",
        "print(result)"
      ],
      "metadata": {
        "colab": {
          "base_uri": "https://localhost:8080/"
        },
        "id": "YKGWwV3N3qmK",
        "outputId": "fb8a8366-6931-4e7c-d95d-fc0c3cbcfd60"
      },
      "execution_count": null,
      "outputs": [
        {
          "output_type": "stream",
          "name": "stdout",
          "text": [
            "Hello!\n",
            "None\n"
          ]
        }
      ]
    },
    {
      "cell_type": "markdown",
      "source": [
        "Return Types\n",
        "\n",
        "\n",
        "1. Integers:\n"
      ],
      "metadata": {
        "id": "rUQt_FMX31Ut"
      }
    },
    {
      "cell_type": "code",
      "source": [
        "def double_number(n):\n",
        "    return n * 2\n",
        "\n",
        "result = double_number(5)\n",
        "print(result)"
      ],
      "metadata": {
        "colab": {
          "base_uri": "https://localhost:8080/"
        },
        "id": "Jk4QHiQ24FmR",
        "outputId": "ffba8b61-55bd-4770-c84d-d497287b744c"
      },
      "execution_count": null,
      "outputs": [
        {
          "output_type": "stream",
          "name": "stdout",
          "text": [
            "10\n"
          ]
        }
      ]
    },
    {
      "cell_type": "markdown",
      "source": [
        "2. Strings:\n"
      ],
      "metadata": {
        "id": "ldkgPS_V4EJi"
      }
    },
    {
      "cell_type": "code",
      "source": [
        "def greet(name):\n",
        "    return f\"Hello, {name}!\"\n",
        "\n",
        "message = greet(\"Shivam\")\n",
        "print(message)"
      ],
      "metadata": {
        "id": "jL9KrSlC3xV1"
      },
      "execution_count": null,
      "outputs": []
    },
    {
      "cell_type": "markdown",
      "source": [
        "3. Lists:\n"
      ],
      "metadata": {
        "id": "Z9ZRy1MQ4cAW"
      }
    },
    {
      "cell_type": "code",
      "source": [
        "def get_numbers():\n",
        "    return [1, 2, 3, 4, 5]\n",
        "\n",
        "numbers = get_numbers()\n",
        "print(numbers)"
      ],
      "metadata": {
        "colab": {
          "base_uri": "https://localhost:8080/"
        },
        "id": "NS5_DyoV4jEK",
        "outputId": "5b8d47c2-3086-428e-a2bd-a5b23135a4f8"
      },
      "execution_count": null,
      "outputs": [
        {
          "output_type": "stream",
          "name": "stdout",
          "text": [
            "[1, 2, 3, 4, 5]\n"
          ]
        }
      ]
    },
    {
      "cell_type": "markdown",
      "source": [
        "4. Dictionaries:\n"
      ],
      "metadata": {
        "id": "MS2PN-9P4snK"
      }
    },
    {
      "cell_type": "code",
      "source": [
        "def get_person():\n",
        "    return {\"name\": \"Shivam\", \"age\": 26}\n",
        "\n",
        "person = get_person()\n",
        "print(person)"
      ],
      "metadata": {
        "colab": {
          "base_uri": "https://localhost:8080/"
        },
        "id": "85KdDg9b4zeq",
        "outputId": "829631fc-e6a9-4333-8eef-cbf19281a24e"
      },
      "execution_count": null,
      "outputs": [
        {
          "output_type": "stream",
          "name": "stdout",
          "text": [
            "{'name': 'Shivam', 'age': 26}\n"
          ]
        }
      ]
    },
    {
      "cell_type": "markdown",
      "source": [
        "# **Question 5 --> . What are iterators in Python and how do they differ from iterables?**"
      ],
      "metadata": {
        "id": "MMvmTYu95FSe"
      }
    },
    {
      "cell_type": "markdown",
      "source": [
        "**Ans -->** Iterators and iterables are fundamental concepts in Python:\n",
        "\n",
        "\n",
        "Iterables:\n",
        "\n",
        "- Objects that can be iterated over (e.g., lists, tuples, dictionaries, sets, strings)\n",
        "- Can be used in for loops or with the iter() function\n",
        "- Examples: [1, 2, 3], (a, b, c), {\"a\": 1, \"b\": 2}, \"hello\"\n",
        "\n",
        "Iterators:\n",
        "\n",
        "- Objects that keep track of their position during iteration\n",
        "- Created using the iter() function or by implementing the iterator protocol (__iter__(), __next__())\n",
        "- Can only be iterated over once\n",
        "- Examples: iter([1, 2, 3]), iter((a, b, c)), iter({\"a\": 1, \"b\": 2})\n",
        "\n",
        "\n",
        "Key differences:\n",
        "\n",
        "\n",
        "1. Iterables can be iterated over multiple times; iterators can only be iterated over once.\n",
        "\n",
        "\n",
        "1. Iterables do not maintain a position; iterators keep track of their position.\n",
        "\n",
        "\n",
        "1. Iterables can be converted to iterators using iter(). Iterators cannot be converted back to iterables.\n",
        "\n",
        "\n",
        "Example:\n",
        "\n",
        "\n",
        "\n",
        "# Iterable (list)\n",
        "numbers = [1, 2, 3]\n",
        "\n",
        "# Create an iterator from the iterable\n",
        "iterator = iter(numbers)\n",
        "\n",
        "# Iterate over the iterator\n",
        "print(next(iterator))  # Output: 1\n",
        "print(next(iterator))  # Output: 2\n",
        "print(next(iterator))  # Output: 3\n",
        "\n",
        "# Try to iterate again (will raise StopIteration)\n",
        "try:\n",
        "    print(next(iterator))\n",
        "except StopIteration:\n",
        "    print(\"Iterator exhausted\")\n",
        "\n",
        "\n",
        "\n",
        "Creating Custom Iterators:\n",
        "\n",
        "To create a custom iterator, implement the iterator protocol:\n",
        "\n",
        "\n",
        "1. __iter__(): Returns the iterator object.\n",
        "\n",
        "\n",
        "1. __next__(): Returns the next value from the iterator.\n",
        "\n",
        "\n",
        "Example:\n",
        "\n",
        "\n",
        "\n",
        "class CustomIterator:\n",
        "    def __init__(self, data):\n",
        "        self.data = data\n",
        "        self.index = 0\n",
        "\n",
        "    def __iter__(self):\n",
        "        return self\n",
        "\n",
        "    def __next__(self):\n",
        "        if self.index < len(self.data):\n",
        "            value = self.data[self.index]\n",
        "            self.index += 1\n",
        "            return value\n",
        "        raise StopIteration\n",
        "\n",
        "# Usage\n",
        "custom_iterator = CustomIterator([1, 2, 3])\n",
        "for value in custom_iterator:\n",
        "    print(value)"
      ],
      "metadata": {
        "id": "VOTPyM0x5Otg"
      }
    },
    {
      "cell_type": "markdown",
      "source": [
        "Here are additional examples and details:\n",
        "\n",
        "\n",
        "Iterator Protocol:\n",
        "\n",
        "\n",
        "The iterator protocol consists of two methods:\n",
        "\n",
        "\n",
        "1. __iter__(): Returns the iterator object itself.\n",
        "\n",
        "\n",
        "1. __next__(): Returns the next value from the iterator.\n",
        "\n",
        "\n",
        "Creating Custom Iterators:\n",
        "\n",
        "\n",
        "To create a custom iterator, implement the iterator protocol:\n",
        "\n",
        "\n",
        "\n",
        "class CustomIterator:\n",
        "    def __init__(self, data):\n",
        "        self.data = data\n",
        "        self.index = 0\n",
        "\n",
        "    def __iter__(self):\n",
        "        return self\n",
        "\n",
        "    def __next__(self):\n",
        "        if self.index < len(self.data):\n",
        "            value = self.data[self.index]\n",
        "            self.index += 1\n",
        "            return value\n",
        "        raise StopIteration\n",
        "\n",
        "# Usage\n",
        "custom_iterator = CustomIterator([1, 2, 3])\n",
        "for value in custom_iterator:\n",
        "    print(value)\n",
        "\n",
        "\n",
        "\n",
        "Generator Functions:\n",
        "\n",
        "\n",
        "Generator functions are a concise way to create iterators:\n",
        "\n",
        "\n",
        "\n",
        "def infinite_sequence():\n",
        "    num = 0\n",
        "    while True:\n",
        "        yield num\n",
        "        num += 1\n",
        "\n",
        "# Usage\n",
        "sequence = infinite_sequence()\n",
        "for _ in range(10):\n",
        "    print(next(sequence))\n",
        "\n",
        "\n",
        "\n",
        "Iterator Tools:\n",
        "\n",
        "\n",
        "Python's itertools module provides various iterator tools:\n",
        "\n",
        "\n",
        "\n",
        "import itertools\n",
        "\n",
        "# Create an iterator that repeats a value\n",
        "repeater = itertools.repeat(\"Hello\", 3)\n",
        "for value in repeater:\n",
        "    print(value)\n",
        "\n",
        "# Create an iterator that cycles over a list\n",
        "cycler = itertools.cycle([1, 2, 3])\n",
        "for _ in range(7):\n",
        "    print(next(cycler))\n",
        "\n",
        "\n",
        "\n",
        "Iterator Expressions:\n",
        "\n",
        "\n",
        "Iterator expressions are a concise way to create iterators:\n",
        "\n",
        "\n",
        "\n",
        "# Create an iterator that squares numbers\n",
        "numbers = [1, 2, 3]\n",
        "squares = (num ** 2 for num in numbers)\n",
        "for square in squares:\n",
        "    print(square)\n",
        "\n",
        "\n",
        "\n",
        "Real-World Applications:\n",
        "\n",
        "\n",
        "Iterators are useful in various scenarios:\n",
        "\n",
        "\n",
        "1. Reading large files\n",
        "\n",
        "\n",
        "2. Processing large datasets\n",
        "\n",
        "\n",
        "3. Implementing algorithms (e.g., binary search)\n",
        "\n",
        "\n",
        "4. Creating data pipelines"
      ],
      "metadata": {
        "id": "7fUF35J-8gHl"
      }
    },
    {
      "cell_type": "markdown",
      "source": [
        "# **Question 6 -->  Explain the concept of generators in Python and how they are defined.**"
      ],
      "metadata": {
        "id": "gt3noO2Q8uIF"
      }
    },
    {
      "cell_type": "markdown",
      "source": [
        "**Ans -->** Generators in Python:\n",
        "\n",
        "\n",
        "Definition:\n",
        "\n",
        "\n",
        "A generator is a special type of iterator that can be used to generate a sequence of values on-the-fly, rather than computing them all at once and storing them in memory.\n",
        "\n",
        "\n",
        "Key Features:\n",
        "\n",
        "\n",
        "1. Lazy evaluation: Values are computed only when needed.\n",
        "\n",
        "\n",
        "1. Memory efficiency: No need to store all values in memory.\n",
        "\n",
        "\n",
        "1. Iterability: Can be used in for loops or with next().\n",
        "\n",
        "\n",
        "Defining Generators:\n",
        "\n",
        "\n",
        "1. Generator Functions:\n",
        "\n",
        "\n",
        "- Defined using the def keyword.\n",
        "\n",
        "\n",
        "- Use yield statement to produce values.\n",
        "\n",
        "\n",
        "Example:\n",
        "\n",
        "\n",
        "\n",
        "def infinite_sequence():\n",
        " num = 0\n",
        " while True:\n",
        "     yield num\n",
        "     num += 1\n",
        "\n",
        "sequence = infinite_sequence()\n",
        "for _ in range(10):\n",
        " print(next(sequence))\n",
        "\n",
        "\n",
        "\n",
        "1. Generator Expressions:\n",
        "\n",
        "\n",
        "- Defined using parentheses.\n",
        "\n",
        "\n",
        "- Use yield or simply specify the expression.\n",
        "\n",
        "\n",
        "Example:\n",
        "\n",
        "\n",
        "\n",
        "numbers = [1, 2, 3]\n",
        "squares = (num ** 2 for num in numbers)\n",
        "for square in squares:\n",
        " print(square)\n",
        "\n",
        "\n",
        "\n",
        "How Generators Work:\n",
        "\n",
        "\n",
        "1. When called, a generator function returns a generator iterator.\n",
        "\n",
        "\n",
        "2. The iterator keeps track of its state.\n",
        "\n",
        "\n",
        "3. Each time next() is called, the iterator executes until the next yield.\n",
        "\n",
        "\n",
        "4. The yielded value is returned.\n",
        "\n",
        "\n",
        "5. The iterator remembers its state for the next iteration.\n",
        "\n",
        "\n",
        "Benefits:\n",
        "\n",
        "\n",
        "1. Memory efficiency.\n",
        "\n",
        "\n",
        "2. Flexibility.\n",
        "\n",
        "\n",
        "3. Improved performance.\n",
        "\n",
        "\n",
        "4. Simplified code.\n",
        "\n",
        "\n",
        "Use Cases:\n",
        "\n",
        "\n",
        "1. Reading large files.\n",
        "\n",
        "\n",
        "2. Processing large datasets.\n",
        "\n",
        "\n",
        "3. Implementing algorithms.\n",
        "\n",
        "\n",
        "4. Creating data pipelines."
      ],
      "metadata": {
        "id": "wR18ub_k-w_i"
      }
    },
    {
      "cell_type": "markdown",
      "source": [
        "# **Question 7 --> What are the advantages of using generators over regular functions?**"
      ],
      "metadata": {
        "id": "tbJYzzyoAemJ"
      }
    },
    {
      "cell_type": "markdown",
      "source": [
        "**Ans -->** Advantages of Generators over Regular Functions:\n",
        "\n",
        "\n",
        "Memory Efficiency:\n",
        "\n",
        "\n",
        "1. Generators store only the current state, reducing memory usage.\n",
        "\n",
        "\n",
        "2. Regular functions store entire datasets in memory.\n",
        "\n",
        "\n",
        "Flexibility:\n",
        "\n",
        "\n",
        "1. Generators allow lazy evaluation, computing values on-the-fly.\n",
        "\n",
        "\n",
        "2. Regular functions compute all values at once.\n",
        "\n",
        "\n",
        "Performance:\n",
        "\n",
        "\n",
        "1. Generators reduce computation overhead.\n",
        "\n",
        "\n",
        "2. Regular functions compute entire datasets upfront.\n",
        "\n",
        "\n",
        "Improved Code:\n",
        "\n",
        "\n",
        "1. Generators simplify code with iterative logic.\n",
        "\n",
        "\n",
        "2. Regular functions require manual iteration.\n",
        "\n",
        "\n",
        "Other Benefits:\n",
        "\n",
        "\n",
        "1. Generators enable infinite sequences.\n",
        "\n",
        "\n",
        "2. Generators improve responsiveness in I/O-bound operations.\n",
        "\n",
        "\n",
        "3. Generators facilitate pipelining data processing.\n",
        "\n",
        "\n",
        "Comparison:\n",
        "\n",
        "\n",
        "|  | Generators | Regular Functions |\n",
        "| --- | --- | --- |\n",
        "| Memory Usage | Efficient | Inefficient |\n",
        "| Evaluation | Lazy | Eager |\n",
        "| Performance | Faster | Slower |\n",
        "| Code Complexity | Simpler | More Complex |\n",
        "| Iteration | Automatic | Manual |\n",
        "\n",
        "\n",
        "Use Generators When:\n",
        "\n",
        "\n",
        "1. Handling large datasets.\n",
        "\n",
        "\n",
        "2. Improving performance.\n",
        "\n",
        "\n",
        "3. Simplifying iterative code.\n",
        "\n",
        "\n",
        "4. Implementing infinite sequences.\n",
        "\n",
        "\n",
        "5. Pipelining data processing.\n",
        "\n",
        "\n",
        "Use Regular Functions When:\n",
        "\n",
        "\n",
        "1. Simple, small-scale computations.\n",
        "\n",
        "\n",
        "2. Non-iterative logic.\n",
        "\n",
        "\n",
        "3. Debugging requires full dataset.\n",
        "\n",
        "\n",
        "In summary, generators offer significant advantages over regular functions in terms of memory efficiency, flexibility, performance, and code simplicity."
      ],
      "metadata": {
        "id": "Z3NuG5csAxFc"
      }
    },
    {
      "cell_type": "markdown",
      "source": [
        "# **Question 8 --> What is a lambda function in Python and when is it typically used?**\n",
        "\n"
      ],
      "metadata": {
        "id": "pJo_yY8PBegW"
      }
    },
    {
      "cell_type": "markdown",
      "source": [
        "**Ans -->** Lambda Functions in Python:\n",
        "\n",
        "\n",
        "Definition:\n",
        "\n",
        "\n",
        "A lambda function is a small, anonymous function that can be defined inline within a larger expression.\n",
        "\n",
        "\n",
        "Syntax:\n",
        "\n",
        "\n",
        "\n",
        "lambda arguments: expression\n",
        "\n",
        "\n",
        "\n",
        "Example:\n",
        "\n",
        "\n",
        "\n",
        "double = lambda x: x * 2\n",
        "print(double(5))  # Output: 10\n",
        "\n",
        "\n",
        "\n",
        "Characteristics:\n",
        "\n",
        "\n",
        "1. Anonymous: No declared name.\n",
        "\n",
        "\n",
        "2. Single expression: No statements or multiple expressions.\n",
        "\n",
        "\n",
        "3. Inline definition: Defined within a larger expression.\n",
        "\n",
        "\n",
        "Typical Use Cases:\n",
        "\n",
        "\n",
        "1. Event handling: As event handlers for GUI applications.\n",
        "\n",
        "\n",
        "2. Data processing: For simple data transformations or filtering.\n",
        "\n",
        "\n",
        "3. Functional programming: With functions like map(), filter(), and reduce().\n",
        "\n",
        "\n",
        "4. Sorting: As custom sorting keys.\n",
        "\n",
        "\n",
        "5. One-time use: When a function is needed only once.\n",
        "\n",
        "\n",
        "Examples:\n",
        "\n",
        "\n",
        "\n",
        "# Map example\n",
        "numbers = [1, 2, 3]\n",
        "squared_numbers = list(map(lambda x: x ** 2, numbers))\n",
        "print(squared_numbers)  # Output: [1, 4, 9]\n",
        "\n",
        "# Filter example\n",
        "numbers = [1, 2, 3, 4, 5]\n",
        "even_numbers = list(filter(lambda x: x % 2 == 0, numbers))\n",
        "print(even_numbers)  # Output: [2, 4]\n",
        "\n",
        "# Sorting example\n",
        "students = [{'name': 'Shivam', 'age': 26}, {'name': 'Shivangani', 'age': 27}]\n",
        "sorted_students = sorted(students, key=lambda x: x['age'])\n",
        "print(sorted_students)  # Output: [{'name': 'Shivam', 'age': 26}, {'name': 'Shivangani', 'age': 27}]\n",
        "\n",
        "\n",
        "\n",
        "Lambda functions are a powerful tool in Python, allowing for concise and expressive code."
      ],
      "metadata": {
        "id": "Sv7K5uznB76F"
      }
    },
    {
      "cell_type": "markdown",
      "source": [
        "# **Question 9 -->  Explain the purpose and usage of the `map()` function in Python.**"
      ],
      "metadata": {
        "id": "-1OaOyRiFxEP"
      }
    },
    {
      "cell_type": "markdown",
      "source": [
        "**Ans -->** The map() function in Python:\n",
        "\n",
        "\n",
        "Purpose:\n",
        "\n",
        "\n",
        "The map() function applies a given function to each item of an iterable (such as a list, tuple, or string) and returns a map object, which is an iterator.\n",
        "\n",
        "\n",
        "Syntax:\n",
        "\n",
        "\n",
        "\n",
        "map(function, iterable)\n",
        "\n",
        "\n",
        "\n",
        "Arguments:\n",
        "\n",
        "\n",
        "1. function: The function to apply to each item.\n",
        "\n",
        "\n",
        "1. iterable: The iterable to apply the function to.\n",
        "\n",
        "\n",
        "Usage:\n",
        "\n",
        "\n",
        "1. Transforming data:\n",
        "\n",
        "\n",
        "\n",
        "numbers = [1, 2, 3, 4, 5]\n",
        "squared_numbers = list(map(lambda x: x ** 2, numbers))\n",
        "print(squared_numbers)  # Output: [1, 4, 9, 16, 25]\n",
        "\n",
        "\n",
        "\n",
        "1. Converting data types:\n",
        "\n",
        "\n",
        "\n",
        "strings = ['1', '2', '3']\n",
        "integers = list(map(int, strings))\n",
        "print(integers)  # Output: [1, 2, 3]\n",
        "\n",
        "\n",
        "\n",
        "1. Filtering data:\n",
        "\n",
        "\n",
        "\n",
        "numbers = [1, 2, 3, 4, 5]\n",
        "even_numbers = list(map(lambda x: x if x % 2 == 0 else None, numbers))\n",
        "even_numbers = [x for x in even_numbers if x is not None]\n",
        "print(even_numbers)  # Output: [2, 4]\n",
        "\n",
        "\n",
        "\n",
        "1. Multiple iterables:\n",
        "\n",
        "\n",
        "\n",
        "names = ['Shivam', 'Shivangani', 'Sushrut']\n",
        "ages = [26, 27, 18]\n",
        "info = list(map(lambda x, y: f\"{x} is {y} years old\", names, ages))\n",
        "print(info)\n",
        "# Output: ['Shivam is 26 years old', 'Shivangani is 27 years old', 'Sushrut is 18 years old']\n",
        "\n",
        "\n",
        "\n",
        "Benefits:\n",
        "\n",
        "\n",
        "1. Concise code.\n",
        "\n",
        "\n",
        "2. Efficient memory usage.\n",
        "\n",
        "\n",
        "3. Improved readability.\n",
        "\n",
        "\n",
        "Common Use Cases:\n",
        "\n",
        "\n",
        "1. Data processing.\n",
        "\n",
        "\n",
        "2. Data transformation.\n",
        "\n",
        "\n",
        "3. Data filtering.\n",
        "\n",
        "\n",
        "4. Machine learning.\n",
        "\n",
        "\n",
        "Best Practices:\n",
        "\n",
        "\n",
        "1. Use lambda functions for simple transformations.\n",
        "\n",
        "\n",
        "2. Use regular functions for complex logic.\n",
        "\n",
        "\n",
        "3. Avoid using map() for side effects.\n",
        "\n",
        "\n",
        "Alternatives:\n",
        "\n",
        "\n",
        "1. List comprehensions.\n",
        "\n",
        "\n",
        "2. Generator expressions.\n",
        "\n",
        "\n",
        "3. For loops."
      ],
      "metadata": {
        "id": "kgoJLcIXGuMR"
      }
    },
    {
      "cell_type": "markdown",
      "source": [
        "Example:\n",
        "\n",
        "Using map() with custom functions:\n"
      ],
      "metadata": {
        "id": "m5EUvYRMIDcc"
      }
    },
    {
      "cell_type": "code",
      "source": [
        "def square(x):\n",
        "    return x ** 2\n",
        "\n",
        "numbers = [1, 2, 3, 4, 5]\n",
        "squared_numbers = list(map(square, numbers))\n",
        "print(squared_numbers)"
      ],
      "metadata": {
        "colab": {
          "base_uri": "https://localhost:8080/"
        },
        "id": "1YZR6B_jILmL",
        "outputId": "00497345-a485-4426-891f-b1bf8f8122e2"
      },
      "execution_count": 22,
      "outputs": [
        {
          "output_type": "stream",
          "name": "stdout",
          "text": [
            "[1, 4, 9, 16, 25]\n"
          ]
        }
      ]
    },
    {
      "cell_type": "markdown",
      "source": [
        "# **Question 10 -->  What is the difference between `map()`, `reduce()`, and `filter()` functions in Python?**"
      ],
      "metadata": {
        "id": "qAPJCSHhIUO9"
      }
    },
    {
      "cell_type": "markdown",
      "source": [
        "**Ans -->** map(), reduce(), and filter() are three fundamental functions in Python's Functional Programming toolkit:\n",
        "\n",
        "\n",
        "*map()*:\n",
        "\n",
        "\n",
        "- Applies a function to each item in an iterable.\n",
        "- Returns a map object (iterator).\n",
        "- Syntax: map(function, iterable).\n",
        "- Example: list(map(lambda x: x**2, [1, 2, 3])) → [1, 4, 9].\n",
        "\n",
        "\n",
        "*reduce()*:\n",
        "\n",
        "\n",
        "- Applies a function to all items in an iterable, cumulatively.\n",
        "- Returns a single value.\n",
        "- Syntax: reduce(function, iterable).\n",
        "- Example: from functools import reduce; reduce(lambda x, y: x+y, [1, 2, 3]) → 6.\n",
        "\n",
        "\n",
        "*filter()*:\n",
        "\n",
        "\n",
        "- Returns items from an iterable for which a function returns True.\n",
        "- Returns a filter object (iterator).\n",
        "- Syntax: filter(function, iterable).\n",
        "- Example: list(filter(lambda x: x%2==0, [1, 2, 3, 4])) → [2, 4].\n",
        "\n",
        "\n",
        "Key differences:\n",
        "\n",
        "\n",
        "- Purpose:\n",
        "    - map(): Transformation.\n",
        "    - reduce(): Accumulation.\n",
        "    - filter(): Selection.\n",
        "- Output:\n",
        "    - map(): Iterator.\n",
        "    - reduce(): Single value.\n",
        "    - filter(): Iterator.\n",
        "- Syntax:\n",
        "    - map(): map(function, iterable).\n",
        "    - reduce(): reduce(function, iterable).\n",
        "    - filter(): filter(function, iterable).\n",
        "\n",
        "\n",
        "When to use:\n",
        "\n",
        "\n",
        "- map(): Transform data, apply functions element-wise.\n",
        "- reduce(): Aggregate data, compute cumulative results.\n",
        "- filter(): Select data, exclude unwanted elements.\n",
        "\n",
        "\n",
        "These functions are essential for concise, expressive, and efficient Python code.\n",
        "\n"
      ],
      "metadata": {
        "id": "AHIYd-psIjMK"
      }
    },
    {
      "cell_type": "markdown",
      "source": [
        "\n",
        "Map()\n",
        "\n",
        "\n",
        "Example: Double all numbers in a list\n"
      ],
      "metadata": {
        "id": "h1-70hUFJFlM"
      }
    },
    {
      "cell_type": "code",
      "source": [
        "numbers = [1, 2, 3, 4, 5]\n",
        "doubled_numbers = list(map(lambda x: x * 2, numbers))\n",
        "print(doubled_numbers)"
      ],
      "metadata": {
        "colab": {
          "base_uri": "https://localhost:8080/"
        },
        "id": "xwTP8uNPJxoa",
        "outputId": "47f8f581-56fe-439d-8491-e4c4e7513ae7"
      },
      "execution_count": 23,
      "outputs": [
        {
          "output_type": "stream",
          "name": "stdout",
          "text": [
            "[2, 4, 6, 8, 10]\n"
          ]
        }
      ]
    },
    {
      "cell_type": "markdown",
      "source": [
        "Example: Convert strings to uppercase\n"
      ],
      "metadata": {
        "id": "JhWtnIzcJ34K"
      }
    },
    {
      "cell_type": "code",
      "source": [
        "strings = [\"hello\", \"world\"]\n",
        "uppercase_strings = list(map(str.upper, strings))\n",
        "print(uppercase_strings)"
      ],
      "metadata": {
        "colab": {
          "base_uri": "https://localhost:8080/"
        },
        "id": "7eIrxuygJ-_0",
        "outputId": "855bdf34-25b4-436c-8407-72611299e113"
      },
      "execution_count": 24,
      "outputs": [
        {
          "output_type": "stream",
          "name": "stdout",
          "text": [
            "['HELLO', 'WORLD']\n"
          ]
        }
      ]
    },
    {
      "cell_type": "markdown",
      "source": [
        "Reduce()\n",
        "\n",
        "\n",
        "Example: Sum all numbers in a list\n"
      ],
      "metadata": {
        "id": "dtdWIFCVKFtf"
      }
    },
    {
      "cell_type": "code",
      "source": [
        "from functools import reduce\n",
        "numbers = [1, 2, 3, 4, 5]\n",
        "sum_numbers = reduce(lambda x, y: x + y, numbers)\n",
        "print(sum_numbers)"
      ],
      "metadata": {
        "colab": {
          "base_uri": "https://localhost:8080/"
        },
        "id": "Ltrhn05yKOHP",
        "outputId": "76ae76c2-519a-4558-f095-ec17cc84b379"
      },
      "execution_count": 25,
      "outputs": [
        {
          "output_type": "stream",
          "name": "stdout",
          "text": [
            "15\n"
          ]
        }
      ]
    },
    {
      "cell_type": "markdown",
      "source": [
        "Example: Multiply all numbers in a list"
      ],
      "metadata": {
        "id": "PMBLEsrQKVAK"
      }
    },
    {
      "cell_type": "code",
      "source": [
        "from functools import reduce\n",
        "numbers = [1, 2, 3, 4, 5]\n",
        "product_numbers = reduce(lambda x, y: x * y, numbers)\n",
        "print(product_numbers)"
      ],
      "metadata": {
        "colab": {
          "base_uri": "https://localhost:8080/"
        },
        "id": "oQ7Ry4TLKbUo",
        "outputId": "dff281d7-1d21-4305-bb41-4b031416b926"
      },
      "execution_count": 26,
      "outputs": [
        {
          "output_type": "stream",
          "name": "stdout",
          "text": [
            "120\n"
          ]
        }
      ]
    },
    {
      "cell_type": "markdown",
      "source": [
        "Filter()\n",
        "\n",
        "\n",
        "Example: Get even numbers from a list\n"
      ],
      "metadata": {
        "id": "G0fybghDKhV1"
      }
    },
    {
      "cell_type": "code",
      "source": [
        "numbers = [1, 2, 3, 4, 5]\n",
        "even_numbers = list(filter(lambda x: x % 2 == 0, numbers))\n",
        "print(even_numbers)"
      ],
      "metadata": {
        "colab": {
          "base_uri": "https://localhost:8080/"
        },
        "id": "m65jxZ9JKn-Q",
        "outputId": "135a6656-f78b-439c-9020-e5b457149af6"
      },
      "execution_count": 27,
      "outputs": [
        {
          "output_type": "stream",
          "name": "stdout",
          "text": [
            "[2, 4]\n"
          ]
        }
      ]
    },
    {
      "cell_type": "markdown",
      "source": [
        "Example: Get strings starting with 'a'\n"
      ],
      "metadata": {
        "id": "scziWeTTKw9S"
      }
    },
    {
      "cell_type": "code",
      "source": [
        "strings = [\"apple\", \"banana\", \"avocado\"]\n",
        "a_strings = list(filter(lambda x: x.startswith('a'), strings))\n",
        "print(a_strings)"
      ],
      "metadata": {
        "colab": {
          "base_uri": "https://localhost:8080/"
        },
        "id": "MUUxhcE8K1aL",
        "outputId": "12b11f53-77ed-477f-f917-622fef0078af"
      },
      "execution_count": 28,
      "outputs": [
        {
          "output_type": "stream",
          "name": "stdout",
          "text": [
            "['apple', 'avocado']\n"
          ]
        }
      ]
    },
    {
      "cell_type": "markdown",
      "source": [
        "Question 11 --> Using pen & Paper write the internal mechanism for sum operation using  reduce function on this given\n",
        "list:[47,11,42,13];"
      ],
      "metadata": {
        "id": "xL5oWpZnK81r"
      }
    },
    {
      "cell_type": "markdown",
      "source": [
        "**Ans -->** Attached paper image in Doc....."
      ],
      "metadata": {
        "id": "7WaKwIPkNjYd"
      }
    },
    {
      "cell_type": "code",
      "source": [],
      "metadata": {
        "id": "Pn0f2HR5OeBf"
      },
      "execution_count": null,
      "outputs": []
    }
  ]
}