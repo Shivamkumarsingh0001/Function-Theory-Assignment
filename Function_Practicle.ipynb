{
  "nbformat": 4,
  "nbformat_minor": 0,
  "metadata": {
    "colab": {
      "provenance": []
    },
    "kernelspec": {
      "name": "python3",
      "display_name": "Python 3"
    },
    "language_info": {
      "name": "python"
    }
  },
  "cells": [
    {
      "cell_type": "markdown",
      "source": [
        "# **Question 1 -->  Write a Python function that takes a list of numbers as input and returns the sum of all even numbers in the list.**"
      ],
      "metadata": {
        "id": "ZLcTAJdATlTw"
      }
    },
    {
      "cell_type": "markdown",
      "source": [
        "Here is a simple Python function that uses the sum() and filter() functions to calculate the sum of all even numbers in a list:\n",
        "\n",
        "def sum_even_numbers(numbers):\n",
        "    return sum(filter(lambda x: x % 2 == 0, numbers))\n"
      ],
      "metadata": {
        "id": "9LoLdcmeVHzV"
      }
    },
    {
      "cell_type": "code",
      "source": [
        "# Example usage:\n",
        "numbers = [1, 2, 3, 4, 5, 6]\n",
        "print(sum_even_numbers(numbers))"
      ],
      "metadata": {
        "colab": {
          "base_uri": "https://localhost:8080/"
        },
        "id": "OOnU-037W4eh",
        "outputId": "ae0efbac-0026-4584-b11e-b695bb525c08"
      },
      "execution_count": 5,
      "outputs": [
        {
          "output_type": "stream",
          "name": "stdout",
          "text": [
            "12\n"
          ]
        }
      ]
    },
    {
      "cell_type": "markdown",
      "source": [
        "Alternatively, we can use a list comprehension:\n",
        "\n",
        "def sum_even_numbers(numbers):\n",
        "    return sum([x for x in numbers if x % 2 == 0])\n"
      ],
      "metadata": {
        "id": "5NJ26KvwVwrc"
      }
    },
    {
      "cell_type": "code",
      "source": [
        "# Example usage:\n",
        "numbers = [1, 2, 3, 4, 5, 6]\n",
        "print(sum_even_numbers(numbers))"
      ],
      "metadata": {
        "colab": {
          "base_uri": "https://localhost:8080/"
        },
        "id": "iTsMChdeV-LQ",
        "outputId": "cbe14339-03e4-4475-f721-46c4f25d7357"
      },
      "execution_count": 6,
      "outputs": [
        {
          "output_type": "stream",
          "name": "stdout",
          "text": [
            "12\n"
          ]
        }
      ]
    },
    {
      "cell_type": "markdown",
      "source": [
        "Or, we can use a for loop:\n",
        "\n",
        "def sum_even_numbers(numbers):\n",
        "    total = 0\n",
        "    for num in numbers:\n",
        "        if num % 2 == 0:\n",
        "            total += num\n",
        "    return total\n"
      ],
      "metadata": {
        "id": "qD1qbOJgXNrU"
      }
    },
    {
      "cell_type": "code",
      "source": [
        "# Example usage:\n",
        "numbers = [1, 2, 3, 4, 5, 6]\n",
        "print(sum_even_numbers(numbers))"
      ],
      "metadata": {
        "colab": {
          "base_uri": "https://localhost:8080/"
        },
        "id": "RIoLdnAWWh1q",
        "outputId": "b67f00ec-1ee3-4ff8-bb6f-84858fdf1472"
      },
      "execution_count": 7,
      "outputs": [
        {
          "output_type": "stream",
          "name": "stdout",
          "text": [
            "12\n"
          ]
        }
      ]
    },
    {
      "cell_type": "markdown",
      "source": [
        "**All of these functions will produce the same result: the sum of all even numbers in the input list.**"
      ],
      "metadata": {
        "id": "fAamm2iRXlxf"
      }
    },
    {
      "cell_type": "markdown",
      "source": [
        "# **Question 2 --> Create a Python function that accepts a string and returns the reverse of that string.**"
      ],
      "metadata": {
        "id": "UZDoUlJWX43U"
      }
    },
    {
      "cell_type": "markdown",
      "source": [
        "**Ans -->** Here are a few ways to create a Python function that accepts a string and returns the reverse of that string:\n"
      ],
      "metadata": {
        "id": "wNQCy3nkYZQW"
      }
    },
    {
      "cell_type": "markdown",
      "source": [
        "**Method 1: Using Slicing**"
      ],
      "metadata": {
        "id": "GSnQ8KjmYoxz"
      }
    },
    {
      "cell_type": "code",
      "source": [
        "def reverse_string(s):\n",
        "    return s[::-1]\n",
        "\n",
        "# Example usage:\n",
        "print(reverse_string(\"Hello World\"))"
      ],
      "metadata": {
        "colab": {
          "base_uri": "https://localhost:8080/"
        },
        "id": "9gtxJDPAZ2N3",
        "outputId": "4843a0eb-2cfb-422e-8643-cf79123059f8"
      },
      "execution_count": 12,
      "outputs": [
        {
          "output_type": "stream",
          "name": "stdout",
          "text": [
            "dlroW olleH\n"
          ]
        }
      ]
    },
    {
      "cell_type": "markdown",
      "source": [
        "**Method 2: Using the reversed() Function**"
      ],
      "metadata": {
        "id": "V0bG4bciYOVc"
      }
    },
    {
      "cell_type": "code",
      "source": [
        "def reverse_string(s):\n",
        "    return \"\".join(reversed(s))\n",
        "\n",
        "# Example usage:\n",
        "print(reverse_string(\"Hello World\"))"
      ],
      "metadata": {
        "colab": {
          "base_uri": "https://localhost:8080/"
        },
        "id": "_UofYQyXacLQ",
        "outputId": "4b63d77a-1f40-45c9-d075-2027117997b2"
      },
      "execution_count": 13,
      "outputs": [
        {
          "output_type": "stream",
          "name": "stdout",
          "text": [
            "dlroW olleH\n"
          ]
        }
      ]
    },
    {
      "cell_type": "markdown",
      "source": [
        "**Method 3: Using a Loop**\n"
      ],
      "metadata": {
        "id": "dY42SYUzalg6"
      }
    },
    {
      "cell_type": "code",
      "source": [
        "def reverse_string(s):\n",
        "    reversed_s = \"\"\n",
        "    for char in s:\n",
        "        reversed_s = char + reversed_s\n",
        "    return reversed_s\n",
        "\n",
        "# Example usage:\n",
        "print(reverse_string(\"Hello World\"))"
      ],
      "metadata": {
        "colab": {
          "base_uri": "https://localhost:8080/"
        },
        "id": "nn8PjilZaqza",
        "outputId": "38d8368c-ab4c-4798-c1bb-e7b1d9a14ece"
      },
      "execution_count": 14,
      "outputs": [
        {
          "output_type": "stream",
          "name": "stdout",
          "text": [
            "dlroW olleH\n"
          ]
        }
      ]
    },
    {
      "cell_type": "markdown",
      "source": [
        "**Method 4: Using Recursion**\n"
      ],
      "metadata": {
        "id": "kLBHmfKBa07F"
      }
    },
    {
      "cell_type": "code",
      "source": [
        "def reverse_string(s):\n",
        "    if len(s) == 0:\n",
        "        return s\n",
        "    else:\n",
        "        return reverse_string(s[1:]) + s[0]\n",
        "\n",
        "# Example usage:\n",
        "print(reverse_string(\"Hello World\"))"
      ],
      "metadata": {
        "colab": {
          "base_uri": "https://localhost:8080/"
        },
        "id": "m1CV-bcea-3w",
        "outputId": "09455d7c-4ebe-45ff-e401-b9e5a3d8bab4"
      },
      "execution_count": 15,
      "outputs": [
        {
          "output_type": "stream",
          "name": "stdout",
          "text": [
            "dlroW olleH\n"
          ]
        }
      ]
    },
    {
      "cell_type": "markdown",
      "source": [
        "All of these functions will produce the same result: the reverse of the input string.\n",
        "\n",
        "\n",
        "**Note:** The slicing method (s[::-1]) is generally the most efficient and concise way to reverse a string in Python."
      ],
      "metadata": {
        "id": "yIkcVbwlbFaV"
      }
    },
    {
      "cell_type": "markdown",
      "source": [
        "# **Question 3 -->  Implement a Python function that takes a list of integers and returns a new list containing the squares of each number.**"
      ],
      "metadata": {
        "id": "BiT9Duu6bY39"
      }
    },
    {
      "cell_type": "markdown",
      "source": [
        "**Ans -->** Here are a few ways to implement a Python function that takes a list of integers and returns a new list containing the squares of each number:\n"
      ],
      "metadata": {
        "id": "bcStui8jb4iW"
      }
    },
    {
      "cell_type": "markdown",
      "source": [
        "**Method 1: List Comprehension**\n"
      ],
      "metadata": {
        "id": "k3bSXfk4cGJE"
      }
    },
    {
      "cell_type": "code",
      "source": [
        "def square_numbers(numbers):\n",
        "    return [x**2 for x in numbers]\n",
        "\n",
        "# Example usage:\n",
        "numbers = [1, 2, 3, 4, 5]\n",
        "print(square_numbers(numbers))  # Output: [1, 4, 9, 16, 25]\n",
        "\n"
      ],
      "metadata": {
        "colab": {
          "base_uri": "https://localhost:8080/"
        },
        "id": "tjCH1y0XcOkB",
        "outputId": "22ca6d60-f6d3-411a-b2d0-9a5a50e865ae"
      },
      "execution_count": 16,
      "outputs": [
        {
          "output_type": "stream",
          "name": "stdout",
          "text": [
            "[1, 4, 9, 16, 25]\n"
          ]
        }
      ]
    },
    {
      "cell_type": "markdown",
      "source": [
        "**Method 2: Map Function**\n"
      ],
      "metadata": {
        "id": "_vSdy82xcWRE"
      }
    },
    {
      "cell_type": "code",
      "source": [
        "def square_numbers(numbers):\n",
        "    return list(map(lambda x: x**2, numbers))\n",
        "\n",
        "# Example usage:\n",
        "numbers = [1, 2, 3, 4, 5]\n",
        "print(square_numbers(numbers))"
      ],
      "metadata": {
        "colab": {
          "base_uri": "https://localhost:8080/"
        },
        "id": "IlRhTiEiccrZ",
        "outputId": "35471dca-f758-48da-fed9-0c19485d674e"
      },
      "execution_count": 17,
      "outputs": [
        {
          "output_type": "stream",
          "name": "stdout",
          "text": [
            "[1, 4, 9, 16, 25]\n"
          ]
        }
      ]
    },
    {
      "cell_type": "markdown",
      "source": [
        "**Method 3: For Loop**"
      ],
      "metadata": {
        "id": "3iIpvClQcj6g"
      }
    },
    {
      "cell_type": "code",
      "source": [
        "def square_numbers(numbers):\n",
        "    squared_numbers = []\n",
        "    for num in numbers:\n",
        "        squared_numbers.append(num**2)\n",
        "    return squared_numbers\n",
        "\n",
        "# Example usage:\n",
        "numbers = [1, 2, 3, 4, 5]\n",
        "print(square_numbers(numbers))"
      ],
      "metadata": {
        "colab": {
          "base_uri": "https://localhost:8080/"
        },
        "id": "G2SE-WVSc1GJ",
        "outputId": "ce3769d5-4603-49c4-e663-507ebc3c4e4c"
      },
      "execution_count": 18,
      "outputs": [
        {
          "output_type": "stream",
          "name": "stdout",
          "text": [
            "[1, 4, 9, 16, 25]\n"
          ]
        }
      ]
    },
    {
      "cell_type": "markdown",
      "source": [
        "**Method 4: NumPy** (if you're working with large numerical arrays)\n"
      ],
      "metadata": {
        "id": "IsgyuePuc6sQ"
      }
    },
    {
      "cell_type": "code",
      "source": [
        "import numpy as np\n",
        "\n",
        "def square_numbers(numbers):\n",
        "    return np.square(numbers)\n",
        "\n",
        "# Example usage:\n",
        "numbers = np.array([1, 2, 3, 4, 5])\n",
        "print(square_numbers(numbers))"
      ],
      "metadata": {
        "colab": {
          "base_uri": "https://localhost:8080/"
        },
        "id": "5R4mLuVPdQ5d",
        "outputId": "7a4fd00a-deb9-4c04-b50b-7d51376e767f"
      },
      "execution_count": 20,
      "outputs": [
        {
          "output_type": "stream",
          "name": "stdout",
          "text": [
            "[ 1  4  9 16 25]\n"
          ]
        }
      ]
    },
    {
      "cell_type": "markdown",
      "source": [
        "All of these functions will produce the same result: a new list containing the squares of each number in the input list.\n",
        "\n",
        "\n",
        "The list comprehension method is generally the most concise and efficient way to implement this function."
      ],
      "metadata": {
        "id": "p2LUImzadS-2"
      }
    },
    {
      "cell_type": "markdown",
      "source": [
        "# **Question 4 -->  Write a Python function that checks if a given number is prime or not from 1 to 200.**\n"
      ],
      "metadata": {
        "id": "8UZ2a10bdaaY"
      }
    },
    {
      "cell_type": "markdown",
      "source": [
        "**Ans -->** Here's a Python function that checks if a number is prime:\n"
      ],
      "metadata": {
        "id": "4UxywCz1dqxw"
      }
    },
    {
      "cell_type": "code",
      "source": [
        "def is_prime(n):\n",
        "    if n <= 1:\n",
        "        return False\n",
        "    for i in range(2, int(n**0.5) + 1):\n",
        "        if n % i == 0:\n",
        "            return False\n",
        "    return True\n",
        "\n",
        "\n",
        "# Check prime numbers from 1 to 200\n",
        "for i in range(1, 201):\n",
        "    if is_prime(i):\n",
        "        print(f\"{i} is prime\")\n"
      ],
      "metadata": {
        "colab": {
          "base_uri": "https://localhost:8080/"
        },
        "id": "MJWXP53FeGlK",
        "outputId": "482e61f2-87a8-45b8-80ed-17f5aae3ef61"
      },
      "execution_count": 21,
      "outputs": [
        {
          "output_type": "stream",
          "name": "stdout",
          "text": [
            "2 is prime\n",
            "3 is prime\n",
            "5 is prime\n",
            "7 is prime\n",
            "11 is prime\n",
            "13 is prime\n",
            "17 is prime\n",
            "19 is prime\n",
            "23 is prime\n",
            "29 is prime\n",
            "31 is prime\n",
            "37 is prime\n",
            "41 is prime\n",
            "43 is prime\n",
            "47 is prime\n",
            "53 is prime\n",
            "59 is prime\n",
            "61 is prime\n",
            "67 is prime\n",
            "71 is prime\n",
            "73 is prime\n",
            "79 is prime\n",
            "83 is prime\n",
            "89 is prime\n",
            "97 is prime\n",
            "101 is prime\n",
            "103 is prime\n",
            "107 is prime\n",
            "109 is prime\n",
            "113 is prime\n",
            "127 is prime\n",
            "131 is prime\n",
            "137 is prime\n",
            "139 is prime\n",
            "149 is prime\n",
            "151 is prime\n",
            "157 is prime\n",
            "163 is prime\n",
            "167 is prime\n",
            "173 is prime\n",
            "179 is prime\n",
            "181 is prime\n",
            "191 is prime\n",
            "193 is prime\n",
            "197 is prime\n",
            "199 is prime\n"
          ]
        }
      ]
    },
    {
      "cell_type": "markdown",
      "source": [
        "**Explanation:**\n",
        "\n",
        "\n",
        "1. The is_prime() function checks if a number n is prime.\n",
        "2. If n is less than or equal to 1, it's not prime.\n",
        "3. Iterate from 2 to the square root of n (inclusive).\n",
        "4. If n is divisible by any number in this range, it's not prime.\n",
        "5. If no divisors are found, n is prime.\n",
        "\n",
        "\n",
        "**Optimized Solution:**\n"
      ],
      "metadata": {
        "id": "iApaMRA7eb4x"
      }
    },
    {
      "cell_type": "code",
      "source": [
        "def is_prime(n):\n",
        "    if n < 2:\n",
        "        return False\n",
        "    for i in (2, 3):\n",
        "        if n % i == 0:\n",
        "            return n == i\n",
        "    if n % 2 == 0 or n % 3 == 0:\n",
        "        return False\n",
        "    i = 5\n",
        "    w = 2\n",
        "    while i * i <= n:\n",
        "        if n % i == 0:\n",
        "            return False\n",
        "        i += w\n",
        "        w = 6 - w\n",
        "    return True\n",
        "\n",
        "\n",
        "# Check prime numbers from 1 to 200\n",
        "for i in range(1, 201):\n",
        "    if is_prime(i):\n",
        "        print(f\"{i} is prime\")\n",
        "\n"
      ],
      "metadata": {
        "colab": {
          "base_uri": "https://localhost:8080/"
        },
        "id": "9jjCTG1Pepdd",
        "outputId": "bcd13743-c656-4bdc-b756-abeb03a36a92"
      },
      "execution_count": 22,
      "outputs": [
        {
          "output_type": "stream",
          "name": "stdout",
          "text": [
            "2 is prime\n",
            "3 is prime\n",
            "5 is prime\n",
            "7 is prime\n",
            "11 is prime\n",
            "13 is prime\n",
            "17 is prime\n",
            "19 is prime\n",
            "23 is prime\n",
            "29 is prime\n",
            "31 is prime\n",
            "37 is prime\n",
            "41 is prime\n",
            "43 is prime\n",
            "47 is prime\n",
            "53 is prime\n",
            "59 is prime\n",
            "61 is prime\n",
            "67 is prime\n",
            "71 is prime\n",
            "73 is prime\n",
            "79 is prime\n",
            "83 is prime\n",
            "89 is prime\n",
            "97 is prime\n",
            "101 is prime\n",
            "103 is prime\n",
            "107 is prime\n",
            "109 is prime\n",
            "113 is prime\n",
            "127 is prime\n",
            "131 is prime\n",
            "137 is prime\n",
            "139 is prime\n",
            "149 is prime\n",
            "151 is prime\n",
            "157 is prime\n",
            "163 is prime\n",
            "167 is prime\n",
            "173 is prime\n",
            "179 is prime\n",
            "181 is prime\n",
            "191 is prime\n",
            "193 is prime\n",
            "197 is prime\n",
            "199 is prime\n"
          ]
        }
      ]
    },
    {
      "cell_type": "markdown",
      "source": [
        "**This optimized solution:**\n",
        "\n",
        "\n",
        "1. Checks divisibility by 2 and 3 first.\n",
        "2. Uses a wheel to skip unnecessary checks.\n",
        "3. Improves performance.\n",
        "\n",
        "\n",
        "**We can also use the Sieve of Eratosthenes algorithm for better performance:**\n",
        "\n"
      ],
      "metadata": {
        "id": "ix3b21bxey-m"
      }
    },
    {
      "cell_type": "code",
      "source": [
        "def sieve_of_eratosthenes(n):\n",
        "    sieve = [True] * (n + 1)\n",
        "    sieve[0:2] = [False, False]\n",
        "    for current_prime in range(2, int(n**0.5) + 1):\n",
        "        if sieve[current_prime]:\n",
        "            for multiple in range(current_prime*2, n + 1, current_prime):\n",
        "                sieve[multiple] = False\n",
        "    return [num for num, is_prime in enumerate(sieve) if is_prime]\n",
        "\n",
        "\n",
        "# Get prime numbers from 1 to 200\n",
        "prime_numbers = sieve_of_eratosthenes(200)\n",
        "print(prime_numbers)\n"
      ],
      "metadata": {
        "colab": {
          "base_uri": "https://localhost:8080/"
        },
        "id": "D5-1qSVOe_YL",
        "outputId": "16234bcc-2b71-4b5a-8c9b-a513a0aca3ba"
      },
      "execution_count": 23,
      "outputs": [
        {
          "output_type": "stream",
          "name": "stdout",
          "text": [
            "[2, 3, 5, 7, 11, 13, 17, 19, 23, 29, 31, 37, 41, 43, 47, 53, 59, 61, 67, 71, 73, 79, 83, 89, 97, 101, 103, 107, 109, 113, 127, 131, 137, 139, 149, 151, 157, 163, 167, 173, 179, 181, 191, 193, 197, 199]\n"
          ]
        }
      ]
    },
    {
      "cell_type": "markdown",
      "source": [
        "# **Question 5 --> Create an iterator class in Python that generates the Fibonacci sequence up to a specified number of terms.**"
      ],
      "metadata": {
        "id": "eHMoOEaEfHpB"
      }
    },
    {
      "cell_type": "markdown",
      "source": [
        "**Ans --> ** Here's an example implementation of an iterator class in Python that generates the Fibonacci sequence up to a specified number of terms:"
      ],
      "metadata": {
        "id": "4V0x7GIqfkQs"
      }
    },
    {
      "cell_type": "code",
      "source": [
        "def fibonacci(n):\n",
        "    \"\"\"\n",
        "    Generate the Fibonacci sequence up to a specified number of terms.\n",
        "\n",
        "    Args:\n",
        "        n (int): The number of terms to generate.\n",
        "\n",
        "    Yields:\n",
        "        int: The next Fibonacci number.\n",
        "    \"\"\"\n",
        "    a, b = 0, 1\n",
        "    for _ in range(n):\n",
        "        yield a\n",
        "        a, b = b, a + b\n",
        "\n",
        "\n",
        "# Example usage:\n",
        "for num in fibonacci(10):\n",
        "    print(num)"
      ],
      "metadata": {
        "colab": {
          "base_uri": "https://localhost:8080/"
        },
        "id": "fkYwlgg-iuNJ",
        "outputId": "f0814c83-32bf-4766-bebb-25b919db3594"
      },
      "execution_count": 37,
      "outputs": [
        {
          "output_type": "stream",
          "name": "stdout",
          "text": [
            "0\n",
            "1\n",
            "1\n",
            "2\n",
            "3\n",
            "5\n",
            "8\n",
            "13\n",
            "21\n",
            "34\n"
          ]
        }
      ]
    },
    {
      "cell_type": "markdown",
      "source": [
        "# **Question 6 -->  Write a generator function in Python that yields the powers of 2 up to a given exponent.**"
      ],
      "metadata": {
        "id": "aJgjdhhci8AR"
      }
    },
    {
      "cell_type": "markdown",
      "source": [
        "**Ans -->** Here's a simple generator function in Python that yields the powers of 2 up to a given exponent:\n"
      ],
      "metadata": {
        "id": "0lTn7JANjC3F"
      }
    },
    {
      "cell_type": "code",
      "source": [
        "def powers_of_two(exponent):\n",
        "    \"\"\"\n",
        "    Generate powers of 2 up to a given exponent.\n",
        "\n",
        "    Args:\n",
        "        exponent (int): The maximum exponent.\n",
        "\n",
        "    Yields:\n",
        "        int: The next power of 2.\n",
        "    \"\"\"\n",
        "    for i in range(exponent + 1):\n",
        "        yield 2 ** i\n",
        "\n",
        "\n",
        "# Example usage:\n",
        "for power in powers_of_two(5):\n",
        "    print(power)"
      ],
      "metadata": {
        "colab": {
          "base_uri": "https://localhost:8080/"
        },
        "id": "_sAGSHPJjRL1",
        "outputId": "f36dc6e9-baf4-4eba-9b8f-0d126d459e8d"
      },
      "execution_count": 38,
      "outputs": [
        {
          "output_type": "stream",
          "name": "stdout",
          "text": [
            "1\n",
            "2\n",
            "4\n",
            "8\n",
            "16\n",
            "32\n"
          ]
        }
      ]
    },
    {
      "cell_type": "markdown",
      "source": [
        "**Explanation:**\n",
        "\n",
        "\n",
        "1. The powers_of_two function takes an integer exponent as input.\n",
        "2. The generator uses a for loop to iterate from 0 to exponent (inclusive).\n",
        "3. Inside the loop, the yield statement produces the next power of 2, calculated as 2 ** i.\n",
        "4. The function returns a generator object that yields the powers of 2.\n",
        "\n",
        "\n",
        "**Alternatively, you can use a generator expression:**\n"
      ],
      "metadata": {
        "id": "ET66CxlCjmpc"
      }
    },
    {
      "cell_type": "code",
      "source": [
        "def powers_of_two(exponent):\n",
        "    return (2 ** i for i in range(exponent + 1))\n",
        "\n",
        "\n",
        "# Example usage:\n",
        "for power in powers_of_two(5):\n",
        "    print(power)\n"
      ],
      "metadata": {
        "colab": {
          "base_uri": "https://localhost:8080/"
        },
        "id": "tfhdUxKLjzNR",
        "outputId": "4e00becf-78fe-4c17-950e-27b10eb95031"
      },
      "execution_count": 51,
      "outputs": [
        {
          "output_type": "stream",
          "name": "stdout",
          "text": [
            "1\n",
            "2\n",
            "4\n",
            "8\n",
            "16\n",
            "32\n"
          ]
        }
      ]
    },
    {
      "cell_type": "markdown",
      "source": [
        "# **Question 7 -->  Implement a generator function that reads a file line by line and yields each line as a string.**"
      ],
      "metadata": {
        "id": "GMhjpuSykZJk"
      }
    },
    {
      "cell_type": "markdown",
      "source": [
        "**Ans -->** Here's a simple generator function that reads a file line by line and yields each line as a string:\n",
        "\n"
      ],
      "metadata": {
        "id": "TM-KW4hOknhY"
      }
    },
    {
      "cell_type": "code",
      "source": [
        "def read_file_lines(file_path):\n",
        "    \"\"\"\n",
        "    Read a file line by line and yield each line as a string.\n",
        "\n",
        "    Args:\n",
        "        file_path (str): The path to the file.\n",
        "\n",
        "    Yields:\n",
        "        str: The next line in the file.\n",
        "    \"\"\"\n",
        "    try:\n",
        "        with open(file_path, 'r') as file:\n",
        "            for line in file:\n",
        "                yield line.strip()\n",
        "    except FileNotFoundError:\n",
        "        print(f\"File '{file_path}' not found.\")\n",
        "    except Exception as e:\n",
        "        print(f\"Error reading file: {e}\")\n",
        "\n",
        "\n",
        "# Example usage:\n",
        "file_path = 'example.txt'\n",
        "for line in read_file_lines(file_path):\n",
        "    print(line)\n",
        "\n"
      ],
      "metadata": {
        "colab": {
          "base_uri": "https://localhost:8080/"
        },
        "id": "Hw_zmJlElAdS",
        "outputId": "bb7b2082-0d41-43e0-aac8-582ebb361639"
      },
      "execution_count": 41,
      "outputs": [
        {
          "output_type": "stream",
          "name": "stdout",
          "text": [
            "File 'example.txt' not found.\n"
          ]
        }
      ]
    },
    {
      "cell_type": "markdown",
      "source": [
        "**Explanation:**\n",
        "\n",
        "\n",
        "1. The read_file_lines function takes a file path as input.\n",
        "2. The function opens the file in read mode ('r') using a with statement, ensuring the file is properly closed.\n",
        "3. The generator uses a for loop to iterate over each line in the file.\n",
        "4. Inside the loop, the yield statement produces the next line, stripped of leading/trailing whitespace using strip().\n",
        "5. The function includes error handling for file not found and other exceptions.\n",
        "\n",
        "\n",
        "**Alternatively, you can use the open function as a context manager with a generator expression:**\n"
      ],
      "metadata": {
        "id": "njhSRvXmlc1J"
      }
    },
    {
      "cell_type": "code",
      "source": [
        "def read_file_lines(file_path):\n",
        "    try:\n",
        "        return (line.strip() for line in open(file_path, 'r'))\n",
        "    except Exception as e:\n",
        "        print(f\"Error reading file: {e}\")"
      ],
      "metadata": {
        "id": "H90RVRqKlmAy"
      },
      "execution_count": 43,
      "outputs": []
    },
    {
      "cell_type": "markdown",
      "source": [
        "We can also add additional functionality, such as:\n",
        "\n",
        "\n",
        "- Filtering lines based on a condition\n",
        "- Handling large files with chunked reading\n",
        "- Supporting multiple file formats (e.g., CSV, JSON)"
      ],
      "metadata": {
        "id": "rdsrGQhhl2V_"
      }
    },
    {
      "cell_type": "markdown",
      "source": [
        "# **Question 8 -->  Use a lambda function in Python to sort a list of tuples based on the second element of each tuple.**"
      ],
      "metadata": {
        "id": "7IbPG3k3l5y9"
      }
    },
    {
      "cell_type": "markdown",
      "source": [
        "**Ans -->** Here's use a lambda function in Python to sort a list of tuples based on the second element of each tuple:\n"
      ],
      "metadata": {
        "id": "XoyxBHTZmGQ7"
      }
    },
    {
      "cell_type": "code",
      "source": [
        "# List of tuples\n",
        "tuples_list = [(3, 6), (1, 9), (2, 3), (4, 5), (5, 1)]\n",
        "\n",
        "# Sort list using lambda function\n",
        "sorted_list = sorted(tuples_list, key=lambda x: x[1])\n",
        "\n",
        "print(sorted_list)\n"
      ],
      "metadata": {
        "colab": {
          "base_uri": "https://localhost:8080/"
        },
        "id": "dmPuq6bCmct7",
        "outputId": "2eb1adb5-4595-4284-b3ce-c6fced29d8c9"
      },
      "execution_count": 44,
      "outputs": [
        {
          "output_type": "stream",
          "name": "stdout",
          "text": [
            "[(5, 1), (2, 3), (4, 5), (3, 6), (1, 9)]\n"
          ]
        }
      ]
    },
    {
      "cell_type": "markdown",
      "source": [
        "**Explanation:**\n",
        "\n",
        "\n",
        "- The sorted() function returns a new sorted list from the elements of any sequence.\n",
        "- The key parameter specifies a function of one argument that is used to extract a comparison key from each input element.\n",
        "- The lambda function lambda x: x[1] takes each tuple x and returns its second element (x[1]) as the sorting key.\n",
        "\n",
        "\n",
        "**Alternatively, you can use the itemgetter function from the operator module:**\n",
        "\n"
      ],
      "metadata": {
        "id": "0XgFrJyVmwiw"
      }
    },
    {
      "cell_type": "code",
      "source": [
        "from operator import itemgetter\n",
        "\n",
        "tuples_list = [(3, 6), (1, 9), (2, 3), (4, 5), (5, 1)]\n",
        "sorted_list = sorted(tuples_list, key=itemgetter(1))\n",
        "print(sorted_list)\n"
      ],
      "metadata": {
        "colab": {
          "base_uri": "https://localhost:8080/"
        },
        "id": "OGKg3jcSnCaw",
        "outputId": "fa560519-a6d6-457f-f7c5-16f5f63eaad2"
      },
      "execution_count": 54,
      "outputs": [
        {
          "output_type": "stream",
          "name": "stdout",
          "text": [
            "[(5, 1), (2, 3), (4, 5), (3, 6), (1, 9)]\n"
          ]
        }
      ]
    },
    {
      "cell_type": "markdown",
      "source": [
        "Or, we can use a named function instead of a lambda:\n"
      ],
      "metadata": {
        "id": "TLzb7j9LnIlt"
      }
    },
    {
      "cell_type": "code",
      "source": [
        "def get_second_element(x):\n",
        "    return x[1]\n",
        "\n",
        "tuples_list = [(3, 6), (1, 9), (2, 3), (4, 5), (5, 1)]\n",
        "sorted_list = sorted(tuples_list, key=get_second_element)\n",
        "print(sorted_list)\n"
      ],
      "metadata": {
        "colab": {
          "base_uri": "https://localhost:8080/"
        },
        "id": "57-l9dfInUC8",
        "outputId": "18c41f7c-2cb9-4072-c5fe-06e06dc26588"
      },
      "execution_count": 53,
      "outputs": [
        {
          "output_type": "stream",
          "name": "stdout",
          "text": [
            "[(5, 1), (2, 3), (4, 5), (3, 6), (1, 9)]\n"
          ]
        }
      ]
    },
    {
      "cell_type": "markdown",
      "source": [
        "All of these approaches will produce the same sorted list."
      ],
      "metadata": {
        "id": "sJypvXcYnyQr"
      }
    },
    {
      "cell_type": "markdown",
      "source": [
        "# **Question 9 -->> . Write a Python program that uses `map()` to convert a list of temperatures from Celsius to Fahrenheit.**"
      ],
      "metadata": {
        "id": "01d43od-n49m"
      }
    },
    {
      "cell_type": "markdown",
      "source": [
        "**Ans -->** Here's a Python program that uses map() to convert a list of temperatures from Celsius to Fahrenheit:\n"
      ],
      "metadata": {
        "id": "n5aKVxNWoPCa"
      }
    },
    {
      "cell_type": "code",
      "source": [
        "# Define a function to convert Celsius to Fahrenheit\n",
        "def celsius_to_fahrenheit(celsius):\n",
        "    return (celsius * 9/5) + 32\n",
        "\n",
        "\n",
        "# List of temperatures in Celsius\n",
        "celsius_temps = [0, 10, 20, 30, 40]\n",
        "\n",
        "\n",
        "# Use map() to convert Celsius to Fahrenheit\n",
        "fahrenheit_temps = list(map(celsius_to_fahrenheit, celsius_temps))\n",
        "\n",
        "\n",
        "# Print the results\n",
        "print(\"Celsius\\tFahrenheit\")\n",
        "for c, f in zip(celsius_temps, fahrenheit_temps):\n",
        "    print(f\"{c}\\t\\t{f:.2f}\")\n",
        "\n"
      ],
      "metadata": {
        "colab": {
          "base_uri": "https://localhost:8080/"
        },
        "id": "3YiJvEVho9h3",
        "outputId": "7e280a6d-9d7c-4e68-81b3-d5cd3842022a"
      },
      "execution_count": 55,
      "outputs": [
        {
          "output_type": "stream",
          "name": "stdout",
          "text": [
            "Celsius\tFahrenheit\n",
            "0\t\t32.00\n",
            "10\t\t50.00\n",
            "20\t\t68.00\n",
            "30\t\t86.00\n",
            "40\t\t104.00\n"
          ]
        }
      ]
    },
    {
      "cell_type": "markdown",
      "source": [
        "**Explanation:**\n",
        "\n",
        "\n",
        "1. Define a function celsius_to_fahrenheit() that takes a Celsius temperature and returns the equivalent Fahrenheit temperature.\n",
        "2. Create a list celsius_temps containing temperatures in Celsius.\n",
        "3. Use map() to apply the celsius_to_fahrenheit() function to each element in celsius_temps, producing a new iterator.\n",
        "4. Convert the iterator to a list fahrenheit_temps using list().\n",
        "5. Print the Celsius and Fahrenheit temperatures side by side using zip().\n",
        "\n",
        "\n"
      ],
      "metadata": {
        "id": "jufv8qT8pUx5"
      }
    },
    {
      "cell_type": "markdown",
      "source": [
        "# **Question 10 --> Create a Python program that uses `filter()` to remove all the vowels from a given string.**"
      ],
      "metadata": {
        "id": "VIZkyRxVp0R0"
      }
    },
    {
      "cell_type": "markdown",
      "source": [
        "**Ans -->** Here's a Python program that uses filter() to remove all the vowels from a given string:\n",
        "\n"
      ],
      "metadata": {
        "id": "YdeNTe8np_8j"
      }
    },
    {
      "cell_type": "code",
      "source": [
        "# Define a function to check if a character is not a vowel\n",
        "def is_not_vowel(char):\n",
        "    vowels = 'aeiouAEIOU'\n",
        "    return char not in vowels\n",
        "\n",
        "\n",
        "# Input string\n",
        "input_str = \"Hello World\"\n",
        "\n",
        "\n",
        "# Use filter() to remove vowels\n",
        "no_vowels_str = ''.join(filter(is_not_vowel, input_str))\n",
        "\n",
        "\n",
        "# Print the result\n",
        "print(\"Original String:\", input_str)\n",
        "print(\"String without Vowels:\", no_vowels_str)\n"
      ],
      "metadata": {
        "colab": {
          "base_uri": "https://localhost:8080/"
        },
        "id": "spRM9L8vqS3E",
        "outputId": "a7dab4a1-ef7d-4138-ccf5-9c41878dc118"
      },
      "execution_count": 59,
      "outputs": [
        {
          "output_type": "stream",
          "name": "stdout",
          "text": [
            "Original String: Hello World\n",
            "String without Vowels: Hll Wrld\n"
          ]
        }
      ]
    },
    {
      "cell_type": "markdown",
      "source": [
        "**Explanation:**\n",
        "\n",
        "1. Define a function is_not_vowel() that checks if a character is not a vowel.\n",
        "2. Create an input string input_str.\n",
        "3. Use filter() to apply the is_not_vowel() function to each character in input_str, producing an iterator.\n",
        "4. Join the filtered characters into a new string no_vowels_str using ''.join().\n",
        "5. Print the original and modified strings.\n",
        "\n",
        "**Alternatively, you can use a lambda function:**\n"
      ],
      "metadata": {
        "id": "hrn_El3ZqukW"
      }
    },
    {
      "cell_type": "code",
      "source": [
        "input_str = \"Hello World\"\n",
        "no_vowels_str = ''.join(filter(lambda c: c not in 'aeiouAEIOU', input_str))\n",
        "# Print the result\n",
        "print(\"Original String:\", input_str)\n",
        "print(\"String without Vowels:\", no_vowels_str)"
      ],
      "metadata": {
        "colab": {
          "base_uri": "https://localhost:8080/"
        },
        "id": "gn_Q19HJrBTx",
        "outputId": "a2965971-5d80-44a7-d6d8-57d4d2641755"
      },
      "execution_count": 61,
      "outputs": [
        {
          "output_type": "stream",
          "name": "stdout",
          "text": [
            "Original String: Hello World\n",
            "String without Vowels: Hll Wrld\n"
          ]
        }
      ]
    },
    {
      "cell_type": "markdown",
      "source": [
        "# **Question 11 -->  Imagine an accounting routine used in a book shop. It works on a list with sublists, which look like this**."
      ],
      "metadata": {
        "id": "-DXM6ZwbrXHM"
      }
    },
    {
      "cell_type": "markdown",
      "source": [
        "Ans --> To solve this problem, you need to create a Python program that processes a list of orders and computes the total cost for each order. You will use lambda and map() to perform the required operations.\n",
        "\n",
        "Here's a step-by-step breakdown and the corresponding Python program:\n",
        "\n",
        "Define the Input Data:\n",
        "\n",
        "1- Order numbers\n",
        "\n",
        "2- Book titles & Authors\n",
        "\n",
        "3- Quantities\n",
        "\n",
        "4- Prices per item\n",
        "\n",
        "Process the Data:\n",
        "\n",
        "Compute the total cost for each order by multiplying the price per item by the quantity. Apply a conditional adjustment: if the computed cost is less than €100.00, increase it by €10.00.\n",
        "\n",
        "Use lambda and map() to Transform the Data: Define a lambda function to compute the adjusted total cost. Use map() to apply this lambda function to each order.\n",
        "\n",
        "Here’s the complete Python program to achieve this:"
      ],
      "metadata": {
        "id": "wAgZlqRVvnYu"
      }
    },
    {
      "cell_type": "code",
      "source": [
        "# Define the input data\n",
        "orders = [\n",
        "    (\"34587\", 4, 40.95),\n",
        "    (\"98762\", 5, 56.80),\n",
        "    (\"77226\", 3, 32.95),\n",
        "    (\"88112\", 3, 24.99)\n",
        "]\n",
        "\n",
        "# Define the lambda function to calculate adjusted total cost\n",
        "adjusted_cost = lambda order: (\n",
        "    order[0],  # Order number\n",
        "    max(order[1] * order[2], 100) + (10 if order[1] * order[2] < 100 else 0)  # Adjusted cost\n",
        ")\n",
        "\n",
        "# Use map() to apply the lambda function to each order\n",
        "result = list(map(adjusted_cost, orders))\n",
        "\n",
        "# Print the result\n",
        "print(result)\n",
        ""
      ],
      "metadata": {
        "colab": {
          "base_uri": "https://localhost:8080/"
        },
        "id": "BSGXSwSCvsPL",
        "outputId": "42e0673e-ab4d-4ad7-fd09-324d1dee8bb1"
      },
      "execution_count": 62,
      "outputs": [
        {
          "output_type": "stream",
          "name": "stdout",
          "text": [
            "[('34587', 163.8), ('98762', 284.0), ('77226', 110), ('88112', 110)]\n"
          ]
        }
      ]
    }
  ]
}